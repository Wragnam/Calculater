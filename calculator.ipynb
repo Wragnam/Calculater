{
 "cells": [
  {
   "cell_type": "code",
   "execution_count": 186,
   "metadata": {},
   "outputs": [],
   "source": [
    "import tkinter as tk\n",
    "from functools import partial"
   ]
  },
  {
   "cell_type": "code",
   "execution_count": 247,
   "metadata": {},
   "outputs": [],
   "source": [
    "CALCULATOR_STRING = \"\"\n",
    "CURR_VAL = \"\"\n",
    "OPERATIONS = [\"+\", \"-\", \"/\", \"*\"]\n",
    "OPERATION_LIST = []"
   ]
  },
  {
   "cell_type": "markdown",
   "metadata": {},
   "source": [
    "Algorithms"
   ]
  },
  {
   "cell_type": "markdown",
   "metadata": {},
   "source": [
    "* Add"
   ]
  },
  {
   "cell_type": "code",
   "execution_count": 129,
   "metadata": {},
   "outputs": [],
   "source": [
    "def add(a, b):\n",
    "    return a + b"
   ]
  },
  {
   "cell_type": "markdown",
   "metadata": {},
   "source": [
    "* Minus"
   ]
  },
  {
   "cell_type": "code",
   "execution_count": 130,
   "metadata": {},
   "outputs": [],
   "source": [
    "def minus(a, b):\n",
    "    return a - b"
   ]
  },
  {
   "cell_type": "markdown",
   "metadata": {},
   "source": [
    "* Multiply"
   ]
  },
  {
   "cell_type": "code",
   "execution_count": 131,
   "metadata": {},
   "outputs": [],
   "source": [
    "def multiply(a, b):\n",
    "    return a * b"
   ]
  },
  {
   "cell_type": "markdown",
   "metadata": {},
   "source": [
    "* Divide"
   ]
  },
  {
   "cell_type": "code",
   "execution_count": 132,
   "metadata": {},
   "outputs": [],
   "source": [
    "def divide(a, b):\n",
    "    return a / b"
   ]
  },
  {
   "cell_type": "markdown",
   "metadata": {},
   "source": [
    "* Build String"
   ]
  },
  {
   "cell_type": "code",
   "execution_count": 252,
   "metadata": {},
   "outputs": [],
   "source": [
    "def build_string(val, label):\n",
    "    global CALCULATOR_STRING\n",
    "    global OPERATIONS\n",
    "    global CURR_VAL\n",
    "    global OPERATION_LIST\n",
    "\n",
    "\n",
    "    CALCULATOR_STRING += val\n",
    "    label.config(text =CALCULATOR_STRING)\n",
    "    if val not in OPERATIONS and val != \"\":\n",
    "        CURR_VAL += val\n",
    "    elif CURR_VAL != \"\":\n",
    "        OPERATION_LIST.append(float(CURR_VAL))\n",
    "        OPERATION_LIST.append(val)\n",
    "        CURR_VAL = \"\"\n",
    "    print(CURR_VAL)\n",
    "    "
   ]
  },
  {
   "cell_type": "markdown",
   "metadata": {},
   "source": [
    "* Clear"
   ]
  },
  {
   "cell_type": "code",
   "execution_count": 226,
   "metadata": {},
   "outputs": [],
   "source": [
    "def clear(label):\n",
    "    global CALCULATOR_STRING\n",
    "    CALCULATOR_STRING = \"\"\n",
    "    label.config(text = \"0\")"
   ]
  },
  {
   "cell_type": "markdown",
   "metadata": {},
   "source": [
    "* Compute"
   ]
  },
  {
   "cell_type": "code",
   "execution_count": 260,
   "metadata": {},
   "outputs": [],
   "source": [
    "def calculate(label):\n",
    "    global CALCULATOR_STRING\n",
    "    global OPERATIONS\n",
    "    global OPERATION_LIST\n",
    "    global CURR_VAL\n",
    "    message = \"\"\n",
    "    if CURR_VAL != \"\":\n",
    "        OPERATION_LIST.append(float(CURR_VAL))\n",
    "        CURR_VAL = \"\"\n",
    "    \n",
    "    if len(OPERATION_LIST) < 3:\n",
    "        message = \"Invalid Input\"\n",
    "\n",
    "    running_val = OPERATION_LIST[0]\n",
    "    for i in range(1, len(OPERATION_LIST)-1, 2):\n",
    "        operation = OPERATION_LIST[i]\n",
    "        next_value = OPERATION_LIST[i+1]\n",
    "        if operation == \"+\":\n",
    "            running_val += next_value\n",
    "        elif operation == \"-\":\n",
    "            running_val -= next_value\n",
    "        elif operation == \"*\":\n",
    "            running_val *= next_value\n",
    "        elif operation == \"/\":\n",
    "            if next_value == 0:\n",
    "                message = \"Division by zero encountered.\"\n",
    "                break\n",
    "            running_val /= next_value\n",
    "\n",
    "    if message == \"\":\n",
    "        message = str(running_val)\n",
    "    \n",
    "    label.config(text=message)\n",
    "    OPERATION_LIST = []\n",
    "    CALCULATOR_STRING = \"\"\n",
    "    \n"
   ]
  },
  {
   "cell_type": "markdown",
   "metadata": {},
   "source": [
    "Design"
   ]
  },
  {
   "cell_type": "markdown",
   "metadata": {},
   "source": [
    "* Button"
   ]
  },
  {
   "cell_type": "code",
   "execution_count": 199,
   "metadata": {},
   "outputs": [],
   "source": [
    "def button(window, text, command = None, height=3, width=5):\n",
    "    return tk.Button(window, text=text, command=command, height=height, width=width)"
   ]
  },
  {
   "cell_type": "markdown",
   "metadata": {},
   "source": [
    "Main screen"
   ]
  },
  {
   "cell_type": "code",
   "execution_count": 147,
   "metadata": {},
   "outputs": [],
   "source": [
    "def create_window():\n",
    "    calculator = tk.Tk()\n",
    "    calculator.geometry(\"300x500\")\n",
    "    return calculator"
   ]
  },
  {
   "cell_type": "markdown",
   "metadata": {},
   "source": [
    "Calculator Design"
   ]
  },
  {
   "cell_type": "code",
   "execution_count": 229,
   "metadata": {},
   "outputs": [],
   "source": [
    "def design(window):\n",
    "    label = tk.Label(window, text=\"0\")\n",
    "    label.place(x=50, y=100)\n",
    "\n",
    "    b = button(window, \"1\", partial(build_string, \"1\", label))\n",
    "    b.place(x=50, y=130)\n",
    "\n",
    "    b = button(window, \"2\", partial(build_string, \"2\", label))\n",
    "    b.place(x=100, y=130)\n",
    "\n",
    "    b = button(window, \"3\", partial(build_string, \"3\", label))\n",
    "    b.place(x=150, y=130)\n",
    "\n",
    "    b = button(window, \"4\", partial(build_string, \"4\", label))\n",
    "    b.place(x=50, y=200)\n",
    "\n",
    "    b = button(window, \"5\", partial(build_string, \"5\", label))\n",
    "    b.place(x=100, y=200)\n",
    "\n",
    "    b = button(window, \"6\", partial(build_string, \"6\", label))\n",
    "    b.place(x=150, y=200)\n",
    "\n",
    "    b = button(window, \"7\", partial(build_string, \"7\", label))\n",
    "    b.place(x=50, y=270)\n",
    "\n",
    "    b = button(window, \"8\", partial(build_string, \"8\", label))\n",
    "    b.place(x=100, y=270)\n",
    "\n",
    "    b = button(window, \"9\", partial(build_string, \"9\", label))\n",
    "    b.place(x=150, y=270)\n",
    "\n",
    "    b = button(window, \"0\", partial(build_string, \"0\", label))\n",
    "    b.place(x=100, y=340)\n",
    "\n",
    "    b = button(window, \"/\", partial(build_string, \"/\", label))\n",
    "    b.place(x=200, y=130, height=55, width=45)\n",
    "\n",
    "    b = button(window, \"*\", partial(build_string, \"*\", label))\n",
    "    b.place(x=200, y=200, height=55, width=45)\n",
    "\n",
    "    b = button(window, \"-\", partial(build_string, \"-\", label))\n",
    "    b.place(x=200, y=270, height=55, width=45)\n",
    "\n",
    "    b = button(window, \"+\", partial(build_string, \"+\", label))\n",
    "    b.place(x=150, y=340, height=55, width=95)\n",
    "\n",
    "    b = button(window, \"CL\", partial(clear, label))\n",
    "    b.place(x=250, y=130)\n",
    "\n",
    "    b = button(window, \"enter\", partial(calculate, label))\n",
    "    b.place(x=50, y=400, height=40, width=195)\n"
   ]
  },
  {
   "cell_type": "markdown",
   "metadata": {},
   "source": [
    "Run main loop"
   ]
  },
  {
   "cell_type": "code",
   "execution_count": 190,
   "metadata": {},
   "outputs": [],
   "source": [
    "def run(main):\n",
    "    return main.mainloop()"
   ]
  },
  {
   "cell_type": "code",
   "execution_count": 256,
   "metadata": {},
   "outputs": [],
   "source": [
    "def __main__():\n",
    "    global CALCULATOR_STRING\n",
    "    global CURR_VAL\n",
    "    global OPERATION_LIST\n",
    "    \n",
    "    CALCULATOR_STRING = \"\"\n",
    "    CURR_VAL = \"\"\n",
    "    OPERATION_LIST=[]\n",
    "\n",
    "\n",
    "    calculator = create_window()\n",
    "    design(calculator)\n",
    "    run(calculator)"
   ]
  },
  {
   "cell_type": "code",
   "execution_count": 261,
   "metadata": {},
   "outputs": [
    {
     "name": "stdout",
     "output_type": "stream",
     "text": [
      "1\n",
      "12\n",
      "\n",
      "6\n",
      "63\n",
      "6\n",
      "63\n",
      "\n",
      "7\n",
      "74\n",
      "749\n",
      "\n",
      "3\n",
      "32\n",
      "1\n",
      "\n",
      "2\n",
      "\n",
      "3\n"
     ]
    }
   ],
   "source": [
    "__main__()"
   ]
  },
  {
   "cell_type": "code",
   "execution_count": null,
   "metadata": {},
   "outputs": [],
   "source": []
  }
 ],
 "metadata": {
  "kernelspec": {
   "display_name": "Python 3",
   "language": "python",
   "name": "python3"
  },
  "language_info": {
   "codemirror_mode": {
    "name": "ipython",
    "version": 3
   },
   "file_extension": ".py",
   "mimetype": "text/x-python",
   "name": "python",
   "nbconvert_exporter": "python",
   "pygments_lexer": "ipython3",
   "version": "3.12.1"
  }
 },
 "nbformat": 4,
 "nbformat_minor": 2
}
